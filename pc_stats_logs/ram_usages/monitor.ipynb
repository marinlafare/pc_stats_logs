{
 "cells": [
  {
   "cell_type": "code",
   "execution_count": 3,
   "id": "d2c265b5-5869-4cfd-97a9-6ca200b29ffd",
   "metadata": {},
   "outputs": [
    {
     "name": "stdout",
     "output_type": "stream",
     "text": [
      "Database 'pc_stats' already exists.\n",
      "Ensuring database tables exist...\n",
      "Database tables checked/created.\n",
      "Asynchronous database initialization complete.\n"
     ]
    }
   ],
   "source": [
    "import os\n",
    "# import psutil\n",
    "# import time\n",
    "from dotenv import load_dotenv\n",
    "\n",
    "from operations.stats_monitor import *\n",
    "# from database.models import Base, PcStats, GpuStats, to_dict # Import your models and to_dict\n",
    "# from operations.models import PcStatsCreateData, GpuStatsCreateData # Import your Pydantic models\n",
    "from database.db_interface import DBInterface\n",
    "from database.engine import init_db\n",
    "load_dotenv('.env')\n",
    "CONN_STRING = os.getenv(\"CONN_STRING\")\n",
    "await init_db(CONN_STRING)\n",
    "# PcStatsDBInterface = DBInterface(PcStats)\n",
    "# GpuStatsDBInterface = DBInterface(GpuStats)"
   ]
  },
  {
   "cell_type": "code",
   "execution_count": 4,
   "id": "cd8409b7-1860-4538-9148-911ea6705056",
   "metadata": {},
   "outputs": [],
   "source": [
    "a = get_pc_stats()"
   ]
  },
  {
   "cell_type": "code",
   "execution_count": 5,
   "id": "c856afbd-a8f7-45e3-acd6-5c1963bbacf8",
   "metadata": {},
   "outputs": [
    {
     "data": {
      "text/plain": [
       "[{'pc_usage': 0.4,\n",
       "  'pc_freq': 3696.0,\n",
       "  'ram_usage': 1.5,\n",
       "  'ram_available': 25.4,\n",
       "  'internet_receive': 119.38,\n",
       "  'internet_sent': 73.85},\n",
       " {'gpu_id': 0, 'ram_usage': 2921.0, 'ram_available': 5037.0, 'temp': 50.0},\n",
       " {'gpu_id': 1, 'ram_usage': 6262.0, 'ram_available': 1806.0, 'temp': 43.0}]"
      ]
     },
     "execution_count": 5,
     "metadata": {},
     "output_type": "execute_result"
    }
   ],
   "source": [
    "a"
   ]
  },
  {
   "cell_type": "code",
   "execution_count": 6,
   "id": "b6ca62de-bccb-457f-ae55-6b371cf8ebbb",
   "metadata": {},
   "outputs": [
    {
     "name": "stdout",
     "output_type": "stream",
     "text": [
      "Inserting PC stats...\n",
      "Inserting GPU stats for GPU ID: 0...\n",
      "Inserting GPU stats for GPU ID: 1...\n",
      "1 PC stats entry inserted successfully.\n",
      "2 GPU stats entries inserted successfully.\n"
     ]
    }
   ],
   "source": [
    "await insert_stats_to_db(a)"
   ]
  },
  {
   "cell_type": "code",
   "execution_count": null,
   "id": "607b5c0d-5542-461c-b44f-ca04555fa19b",
   "metadata": {},
   "outputs": [],
   "source": []
  },
  {
   "cell_type": "code",
   "execution_count": null,
   "id": "e1b0e8de-68f5-405e-8faf-b10a3f16b5bc",
   "metadata": {},
   "outputs": [],
   "source": []
  },
  {
   "cell_type": "code",
   "execution_count": null,
   "id": "d49760f2-fa4d-4553-a963-8b4c65ba076b",
   "metadata": {},
   "outputs": [],
   "source": []
  },
  {
   "cell_type": "code",
   "execution_count": 21,
   "id": "6a2cd96c-38d4-487c-b8da-858d4381beea",
   "metadata": {},
   "outputs": [
    {
     "name": "stdout",
     "output_type": "stream",
     "text": [
      "Deleting table: gpu_stats...\n",
      "Successfully deleted table: gpu_stats\n",
      "Deleting table: pc_stats...\n",
      "Successfully deleted table: pc_stats\n",
      "Tables 'gpu_stats','pc_stats' deleted.\n"
     ]
    }
   ],
   "source": [
    "await delete_all_tables()"
   ]
  },
  {
   "cell_type": "code",
   "execution_count": null,
   "id": "60a3f8ce-0893-4a38-bb6a-0e846f557e6e",
   "metadata": {},
   "outputs": [],
   "source": []
  },
  {
   "cell_type": "code",
   "execution_count": 4,
   "id": "d7c938a0-303d-405c-a76d-bda29e70bb4e",
   "metadata": {},
   "outputs": [],
   "source": [
    "from database.engine import AsyncDBSession\n",
    "from sqlalchemy import text, select, update\n",
    "async def open_async_request(sql_question: str,\n",
    "                             params: dict = None,\n",
    "                             fetch_as_dict: bool = False):\n",
    "    \"\"\"\n",
    "    Executes an asynchronous SQL query, optionally with parameters, and fetches results.\n",
    "    Uses AsyncDBSession for connection management.\n",
    "    (Provided by user)\n",
    "    \"\"\"\n",
    "    async with AsyncDBSession() as session:\n",
    "        try:\n",
    "            # Use text() for raw SQL queries and bindparams for parameters\n",
    "            if params:\n",
    "                result = await session.execute(text(sql_question), params)\n",
    "            else:\n",
    "                result = await session.execute(text(sql_question))\n",
    "\n",
    "            # Check if the result object returns rows before attempting to fetch\n",
    "            if result.returns_rows:\n",
    "                if fetch_as_dict:\n",
    "                    # Fetch all rows as SQLAlchemy Row objects, then convert to dicts\n",
    "                    rows = result.fetchall()\n",
    "                    return [row._mapping for row in rows]\n",
    "                else:\n",
    "                    # Return list of tuples by default\n",
    "                    return result.fetchall()\n",
    "            else:\n",
    "                # For statements that don't return rows (like DDL, UPDATE, INSERT without RETURNING),\n",
    "                # we don't call fetchall(). We might want to commit here if this function\n",
    "                # is intended to commit DDL, but typically DDL is auto-committed or\n",
    "                # handled by the encompassing transaction.\n",
    "                # For DROP TABLE, no return value is expected.\n",
    "                return None # Or a success indicator if needed\n",
    "\n",
    "        except Exception as e:\n",
    "            await session.rollback() # Ensure rollback on error\n",
    "            print(f\"Error in open_async_request: {e}\")\n",
    "            raise # Re-raise to propagate the error"
   ]
  },
  {
   "cell_type": "code",
   "execution_count": 5,
   "id": "f2c93bbb-8141-4d5c-8916-bedb81ab9be5",
   "metadata": {},
   "outputs": [
    {
     "data": {
      "text/plain": [
       "[(0,)]"
      ]
     },
     "execution_count": 5,
     "metadata": {},
     "output_type": "execute_result"
    }
   ],
   "source": [
    "await open_async_request(\"select count(*) from pc_stats\")"
   ]
  },
  {
   "cell_type": "code",
   "execution_count": 15,
   "id": "98deb728-66f8-422c-92df-ded0aea327b1",
   "metadata": {},
   "outputs": [],
   "source": [
    "async def delete_stats_tables() -> None:\n",
    "    \"\"\"\n",
    "    Deletes the 'gpu_stats' and 'pc_stats' tables from the database.\n",
    "    This operation is irreversible.\n",
    "    \"\"\"\n",
    "\n",
    "    await open_async_request(\"DROP TABLE gpu_stats CASCADE;\")\n",
    "    await open_async_request(\"DROP TABLE pc_stats CASCADE;\")\n",
    "    \n",
    "    print(\"Deletion process complete.\")"
   ]
  },
  {
   "cell_type": "code",
   "execution_count": 20,
   "id": "ae4d3bc0-b1db-4efa-bf9e-2560bcefb319",
   "metadata": {},
   "outputs": [],
   "source": [
    "async def delete_all_tables():\n",
    "    \"\"\"\n",
    "    Deletes specified Leela-related tables asynchronously.\n",
    "    Note: DDL operations like DROP TABLE automatically commit.\n",
    "    \"\"\"\n",
    "    async with AsyncDBSession() as session:\n",
    "        for table_name_to_delete in ['gpu_stats','pc_stats']:\n",
    "            print(f\"Deleting table: {table_name_to_delete}...\")\n",
    "            try:\n",
    "                # Use text() for DDL commands\n",
    "                await session.execute(text(f\"DROP TABLE IF EXISTS \\\"{table_name_to_delete}\\\" CASCADE;\"))\n",
    "                # No explicit commit needed for DDL in async context as it's auto-committed by the DB\n",
    "                print(f\"Successfully deleted table: {table_name_to_delete}\")\n",
    "            except Exception as e:\n",
    "                # Rollback is not strictly necessary for DDL that fails, but good general practice\n",
    "                await session.rollback()\n",
    "                print(f\"An unexpected error occurred during deletion of {table_name_to_delete}: {e}\")\n",
    "                # Don't re-raise immediately if you want to try deleting other tables\n",
    "                # But for a script, re-raising might be desired for immediate feedback\n",
    "        # A single commit for the session at the end, though individual DDLs are often auto-committed.\n",
    "        await session.commit()\n",
    "    print(f\"Tables 'gpu_stats','pc_stats' deleted.\")"
   ]
  },
  {
   "cell_type": "code",
   "execution_count": null,
   "id": "e3cabefc-9723-446a-b2c2-359ef1d0ec5c",
   "metadata": {},
   "outputs": [],
   "source": []
  },
  {
   "cell_type": "code",
   "execution_count": null,
   "id": "2549c565-f82b-4093-9e53-b1ee508fb246",
   "metadata": {},
   "outputs": [],
   "source": []
  },
  {
   "cell_type": "code",
   "execution_count": null,
   "id": "6a2ac88d-c705-4838-bbab-4cc70166282e",
   "metadata": {},
   "outputs": [],
   "source": []
  },
  {
   "cell_type": "code",
   "execution_count": null,
   "id": "de76c16a-e7b6-484b-b3a2-5ad371c7f15c",
   "metadata": {},
   "outputs": [],
   "source": []
  },
  {
   "cell_type": "code",
   "execution_count": 6,
   "id": "e3f26818-33d3-48e5-b86a-28bdd61ffaeb",
   "metadata": {},
   "outputs": [
    {
     "data": {
      "text/plain": [
       "{'cpu_percent': 0.3,\n",
       " 'cpu_frequency': {'current': 3696.0, 'min': 0.0, 'max': 0.0},\n",
       " 'memory': {'total_gb': 27.37,\n",
       "  'used_gb': 1.49,\n",
       "  'free_gb': 25.03,\n",
       "  'percent_used': 7.2},\n",
       " 'disk_usage': {'total_gb': 1006.85,\n",
       "  'used_gb': 79.68,\n",
       "  'free_gb': 875.96,\n",
       "  'percent_used': 8.3},\n",
       " 'network_io': {'bytes_sent_mb': 32.35, 'bytes_received_mb': 67.08},\n",
       " 'gpu_stats': [{'id': 0,\n",
       "   'name': 'NVIDIA GeForce RTX 4060',\n",
       "   'load_percent': 26.0,\n",
       "   'memory_total_mb': 8188.0,\n",
       "   'memory_used_mb': 2907.0,\n",
       "   'memory_free_mb': 5051.0,\n",
       "   'temperature_celsius': 54.0},\n",
       "  {'id': 1,\n",
       "   'name': 'NVIDIA GeForce GTX 1070',\n",
       "   'load_percent': 94.0,\n",
       "   'memory_total_mb': 8192.0,\n",
       "   'memory_used_mb': 6253.0,\n",
       "   'memory_free_mb': 1815.0,\n",
       "   'temperature_celsius': 80.0}]}"
      ]
     },
     "execution_count": 6,
     "metadata": {},
     "output_type": "execute_result"
    }
   ],
   "source": [
    "get_pc_stats()"
   ]
  },
  {
   "cell_type": "code",
   "execution_count": null,
   "id": "39083573-b5df-4ed4-a4e5-64d4f921356a",
   "metadata": {},
   "outputs": [],
   "source": []
  }
 ],
 "metadata": {
  "kernelspec": {
   "display_name": "docker_stuff",
   "language": "python",
   "name": "docker_stuff"
  },
  "language_info": {
   "codemirror_mode": {
    "name": "ipython",
    "version": 3
   },
   "file_extension": ".py",
   "mimetype": "text/x-python",
   "name": "python",
   "nbconvert_exporter": "python",
   "pygments_lexer": "ipython3",
   "version": "3.13.5"
  }
 },
 "nbformat": 4,
 "nbformat_minor": 5
}
